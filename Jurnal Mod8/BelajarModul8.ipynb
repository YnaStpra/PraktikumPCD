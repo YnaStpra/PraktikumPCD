{
 "cells": [
  {
   "cell_type": "markdown",
   "metadata": {},
   "source": [
    "# Modul 8 : Ekstraksi Ciri/Fitur"
   ]
  },
  {
   "cell_type": "code",
   "execution_count": 131,
   "metadata": {},
   "outputs": [],
   "source": [
    "import cv2 as cv\n",
    "import numpy as np\n",
    "import matplotlib.pyplot as plt\n",
    "import math"
   ]
  },
  {
   "cell_type": "markdown",
   "metadata": {},
   "source": [
    "### Gray Level Co-Occurence Matrix (GlCM)"
   ]
  },
  {
   "cell_type": "code",
   "execution_count": 119,
   "metadata": {},
   "outputs": [
    {
     "name": "stdout",
     "output_type": "stream",
     "text": [
      "[[0 0 1 1]\n",
      " [0 0 1 1]\n",
      " [0 2 2 2]\n",
      " [2 2 3 3]]\n"
     ]
    }
   ],
   "source": [
    "matriks = np.array([\n",
    "    [0,0,1,1],\n",
    "    [0,0,1,1],\n",
    "    [0,2,2,2],\n",
    "    [2,2,3,3],\n",
    "])\n",
    "print(matriks)"
   ]
  },
  {
   "cell_type": "markdown",
   "metadata": {},
   "source": [
    "##### Memeriksa suatu indeks pada suatu matriks out of bounds atau tidak"
   ]
  },
  {
   "cell_type": "code",
   "execution_count": 120,
   "metadata": {},
   "outputs": [],
   "source": [
    "def is_index_valid(arr, i, j):\n",
    "    return 0 <= i < len(arr) and 0 <= j < len(arr[0])"
   ]
  },
  {
   "cell_type": "markdown",
   "metadata": {},
   "source": [
    "##### Melakukan Proses Normalisasi dengan membagi setiap nilai piksel dengan jumlah total keseluruhan piksel dari suatu matriks"
   ]
  },
  {
   "cell_type": "code",
   "execution_count": 121,
   "metadata": {},
   "outputs": [],
   "source": [
    "def normalisasi(image):\n",
    "    sum = np.sum(image)\n",
    "    result = np.zeros(image.shape)\n",
    "    for i in range(image.shape[0]):\n",
    "        for j in range(image.shape[1]):\n",
    "            result[i,j] = image[i][j]/sum\n",
    "    return result"
   ]
  },
  {
   "cell_type": "markdown",
   "metadata": {},
   "source": [
    "##### Menghitung Matriks Konkurensi Simetris dengan sudut 0 derajat"
   ]
  },
  {
   "cell_type": "code",
   "execution_count": 122,
   "metadata": {},
   "outputs": [
    {
     "name": "stdout",
     "output_type": "stream",
     "text": [
      "[[0.16666667 0.08333333 0.04166667 0.        ]\n",
      " [0.08333333 0.16666667 0.         0.        ]\n",
      " [0.04166667 0.         0.25       0.04166667]\n",
      " [0.         0.         0.04166667 0.08333333]]\n"
     ]
    }
   ],
   "source": [
    "def derajat0(image, bit):\n",
    "    result = np.zeros((bit**2, bit**2))\n",
    "    for i in range(image.shape[0]):\n",
    "        for j in range(image.shape[1]):\n",
    "            if is_index_valid(image,i,j+1):\n",
    "                result[image[i,j], image[i,j+1]] += 1\n",
    "    result = result + result.T\n",
    "    result = normalisasi(result)\n",
    "    return result\n",
    "tetha0 = derajat0(matriks, 2)\n",
    "print(tetha0)"
   ]
  },
  {
   "cell_type": "markdown",
   "metadata": {},
   "source": [
    "##### Menghitung Matriks Konkurensi Simetris dengan sudut 90 derajat"
   ]
  },
  {
   "cell_type": "code",
   "execution_count": 123,
   "metadata": {},
   "outputs": [
    {
     "name": "stdout",
     "output_type": "stream",
     "text": [
      "[[0.25       0.         0.08333333 0.        ]\n",
      " [0.         0.16666667 0.08333333 0.        ]\n",
      " [0.08333333 0.08333333 0.08333333 0.08333333]\n",
      " [0.         0.         0.08333333 0.        ]]\n"
     ]
    }
   ],
   "source": [
    "def derajat90(image, bit):\n",
    "    result = np.zeros((bit**2, bit**2))\n",
    "    for i in range(image.shape[0]):\n",
    "        for j in range(image.shape[1]):\n",
    "            if is_index_valid(image,i-1,j):\n",
    "                result[image[i,j], image[i-1,j]] += 1\n",
    "    result = result + result.T\n",
    "    result = normalisasi(result)\n",
    "    return result\n",
    "tetha90 = derajat90(matriks, 2)\n",
    "print(tetha90)"
   ]
  },
  {
   "cell_type": "markdown",
   "metadata": {},
   "source": [
    "##### Menghitung Matriks Konkurensi Simetris dengan sudut 45 derajat"
   ]
  },
  {
   "cell_type": "code",
   "execution_count": 124,
   "metadata": {},
   "outputs": [
    {
     "name": "stdout",
     "output_type": "stream",
     "text": [
      "[[0.22222222 0.05555556 0.         0.        ]\n",
      " [0.05555556 0.11111111 0.11111111 0.        ]\n",
      " [0.         0.11111111 0.22222222 0.05555556]\n",
      " [0.         0.         0.05555556 0.        ]]\n"
     ]
    }
   ],
   "source": [
    "def derajat45(image, bit):\n",
    "    result = np.zeros((bit**2, bit**2))\n",
    "    for i in range(image.shape[0]):\n",
    "        for j in range(image.shape[1]):\n",
    "            if is_index_valid(image,i-1,j+1):\n",
    "                result[image[i,j], image[i-1,j+1]] += 1\n",
    "    result = result + result.T\n",
    "    result = normalisasi(result)\n",
    "    return result\n",
    "tetha45 = derajat45(matriks, 2)\n",
    "print(tetha45)"
   ]
  },
  {
   "cell_type": "markdown",
   "metadata": {},
   "source": [
    "##### Menghitung Matriks Konkurensi Simetris dengan sudut 135 derajat"
   ]
  },
  {
   "cell_type": "code",
   "execution_count": 125,
   "metadata": {},
   "outputs": [
    {
     "name": "stdout",
     "output_type": "stream",
     "text": [
      "[[0.11111111 0.05555556 0.16666667 0.        ]\n",
      " [0.05555556 0.11111111 0.05555556 0.        ]\n",
      " [0.16666667 0.05555556 0.         0.11111111]\n",
      " [0.         0.         0.11111111 0.        ]]\n"
     ]
    }
   ],
   "source": [
    "def derajat135(image, bit):\n",
    "    result = np.zeros((bit**2, bit**2))\n",
    "    for i in range(image.shape[0]):\n",
    "        for j in range(image.shape[1]):\n",
    "            if is_index_valid(image,i-1,j-1):\n",
    "                result[image[i,j], image[i-1,j-1]] += 1\n",
    "    result = result + result.T\n",
    "    result = normalisasi(result)\n",
    "    return result\n",
    "tetha135 = derajat135(matriks, 2)\n",
    "print(tetha135)"
   ]
  },
  {
   "cell_type": "markdown",
   "metadata": {},
   "source": [
    "##### Menghitung Angular Second Moment (ASM)"
   ]
  },
  {
   "cell_type": "code",
   "execution_count": 126,
   "metadata": {},
   "outputs": [
    {
     "name": "stdout",
     "output_type": "stream",
     "text": [
      "0.14583333333333331\n"
     ]
    }
   ],
   "source": [
    "def ASM(matriks):\n",
    "    asm = np.sum(tetha0**2)\n",
    "    return asm\n",
    "asmMat = ASM(tetha0)\n",
    "print(asmMat)"
   ]
  },
  {
   "cell_type": "markdown",
   "metadata": {},
   "source": [
    "##### Menghitung Contrast"
   ]
  },
  {
   "cell_type": "code",
   "execution_count": 127,
   "metadata": {},
   "outputs": [
    {
     "name": "stdout",
     "output_type": "stream",
     "text": [
      "0.5833333333333333\n"
     ]
    }
   ],
   "source": [
    "def contrast(matriks):\n",
    "    result = 0\n",
    "    for i in range(matriks.shape[0]):\n",
    "        for j in range(matriks.shape[1]):\n",
    "            result+=((i-j)**2)*matriks[i,j]\n",
    "    return result\n",
    "con = contrast(tetha0)\n",
    "print(con)"
   ]
  },
  {
   "cell_type": "markdown",
   "metadata": {},
   "source": [
    "##### Menghitung Correlation"
   ]
  },
  {
   "cell_type": "markdown",
   "metadata": {},
   "source": [
    "###### mencari rata rata intensitas piksel"
   ]
  },
  {
   "cell_type": "code",
   "execution_count": 128,
   "metadata": {},
   "outputs": [
    {
     "name": "stdout",
     "output_type": "stream",
     "text": [
      "(1.2916666666666665, 1.2916666666666665)\n"
     ]
    }
   ],
   "source": [
    "def idxMiu(matriks):\n",
    "    miuI = 0\n",
    "    miuJ = 0\n",
    "    for i in range(matriks.shape[0]):\n",
    "        for j in range(matriks.shape[1]):\n",
    "            miuI += i*matriks[i,j]\n",
    "            miuJ += j*matriks[i,j]\n",
    "    \n",
    "    return miuI, miuJ\n",
    "print(idxMiu(tetha0))\n"
   ]
  },
  {
   "cell_type": "markdown",
   "metadata": {},
   "source": [
    "###### Mencari standar devisiasi"
   ]
  },
  {
   "cell_type": "code",
   "execution_count": 129,
   "metadata": {},
   "outputs": [
    {
     "name": "stdout",
     "output_type": "stream",
     "text": [
      "(2.852330419383406, 2.8523304193834065)\n"
     ]
    }
   ],
   "source": [
    "def stdDev(matriks):\n",
    "    miuI, miuJ = idxMiu(matriks)\n",
    "    stdDevI = 0\n",
    "    stdDevJ = 0\n",
    "    for i in range(matriks.shape[0]):\n",
    "        for j in range(matriks.shape[1]):\n",
    "            stdDevI += np.sqrt(((i-miuI)**2)*matriks[i,j])\n",
    "            stdDevJ += np.sqrt(((j-miuJ)**2)*matriks[i,j])\n",
    "    return stdDevI, stdDevJ\n",
    "print(stdDev(tetha0))"
   ]
  },
  {
   "cell_type": "code",
   "execution_count": 130,
   "metadata": {},
   "outputs": [
    {
     "name": "stdout",
     "output_type": "stream",
     "text": [
      "0.09197189176373607\n"
     ]
    }
   ],
   "source": [
    "def correlation(matriks):\n",
    "    corr = 0 \n",
    "    miuI, miuJ = idxMiu(matriks)\n",
    "    stdDevI, stdDevJ = stdDev(matriks)\n",
    "    for i in range(matriks.shape[0]):\n",
    "        for j in range(matriks.shape[1]):\n",
    "            corr += ((i-miuI)*(j-miuJ)*matriks[i,j])/(stdDevI*stdDevJ)\n",
    "    return corr\n",
    "print(correlation(tetha0))"
   ]
  },
  {
   "cell_type": "markdown",
   "metadata": {},
   "source": [
    "##### Menghitung Entropy"
   ]
  },
  {
   "cell_type": "code",
   "execution_count": 137,
   "metadata": {},
   "outputs": [
    {
     "name": "stdout",
     "output_type": "stream",
     "text": [
      "3.0220552088742\n"
     ]
    }
   ],
   "source": [
    "def entropy(matriks):\n",
    "    ent = 0\n",
    "    for i in range(matriks.shape[0]):\n",
    "        for j in range(matriks.shape[1]):\n",
    "            if matriks[i,j] != 0:\n",
    "                ent -= matriks[i,j]*np.log2(matriks[i,j])\n",
    "    return ent\n",
    "print(entropy(tetha0))"
   ]
  },
  {
   "cell_type": "markdown",
   "metadata": {},
   "source": [
    "##### Menghitung Energy"
   ]
  },
  {
   "cell_type": "code",
   "execution_count": 138,
   "metadata": {},
   "outputs": [
    {
     "name": "stdout",
     "output_type": "stream",
     "text": [
      "0.38188130791298663\n"
     ]
    }
   ],
   "source": [
    "def energy(matriks):\n",
    "    return np.sqrt(ASM(matriks))\n",
    "print(energy(tetha0))"
   ]
  },
  {
   "cell_type": "markdown",
   "metadata": {},
   "source": [
    "##### Menghitung Homogenitas"
   ]
  },
  {
   "cell_type": "code",
   "execution_count": 141,
   "metadata": {},
   "outputs": [
    {
     "name": "stdout",
     "output_type": "stream",
     "text": [
      "0.8194444444444445\n"
     ]
    }
   ],
   "source": [
    "def homogenity(matriks):\n",
    "    hom = 0\n",
    "    for i in range(matriks.shape[0]):\n",
    "        for j in range(matriks.shape[1]):\n",
    "            hom += matriks[i,j]/(1+(abs(i-j)))\n",
    "    return hom\n",
    "print(homogenity(tetha0))"
   ]
  },
  {
   "cell_type": "markdown",
   "metadata": {},
   "source": [
    "##### Menghitung Disimilaritas"
   ]
  },
  {
   "cell_type": "code",
   "execution_count": 142,
   "metadata": {},
   "outputs": [
    {
     "name": "stdout",
     "output_type": "stream",
     "text": [
      "0.4166666666666667\n"
     ]
    }
   ],
   "source": [
    "def dissimilarity(matriks):\n",
    "    dis = 0\n",
    "    for i in range(matriks.shape[0]):\n",
    "        for j in range(matriks.shape[1]):\n",
    "            dis += matriks[i,j]*abs(i-j)\n",
    "    return dis\n",
    "print(dissimilarity(tetha0))"
   ]
  }
 ],
 "metadata": {
  "kernelspec": {
   "display_name": "Python 3.10.9 64-bit",
   "language": "python",
   "name": "python3"
  },
  "language_info": {
   "codemirror_mode": {
    "name": "ipython",
    "version": 3
   },
   "file_extension": ".py",
   "mimetype": "text/x-python",
   "name": "python",
   "nbconvert_exporter": "python",
   "pygments_lexer": "ipython3",
   "version": "3.10.9"
  },
  "orig_nbformat": 4,
  "vscode": {
   "interpreter": {
    "hash": "26de051ba29f2982a8de78e945f0abaf191376122a1563185a90213a26c5da77"
   }
  }
 },
 "nbformat": 4,
 "nbformat_minor": 2
}
